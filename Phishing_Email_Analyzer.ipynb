{
 "cells": [
  {
   "cell_type": "markdown",
   "id": "16564e10",
   "metadata": {},
   "source": [
    "# 📧 Phishing Email Analyzer\n",
    "Analyze suspicious email headers and links to detect phishing attempts.\n",
    "\n",
    "This tool checks:\n",
    "- Mismatched `From` and `Reply-To` fields\n",
    "- Suspicious URLs\n",
    "- Shortened links\n",
    "- IP geolocation of sender"
   ]
  },
  {
   "cell_type": "code",
   "execution_count": null,
   "id": "298ba835",
   "metadata": {},
   "outputs": [],
   "source": [
    "# 📦 Install Required Libraries\n",
    "!pip install tldextract ipwhois requests"
   ]
  },
  {
   "cell_type": "code",
   "execution_count": null,
   "id": "e628e753",
   "metadata": {},
   "outputs": [],
   "source": [
    "# 🛡️ Email Header & Link Analyzer\n",
    "import re\n",
    "import tldextract\n",
    "import requests\n",
    "from ipwhois import IPWhois\n",
    "\n",
    "def analyze_email(header, body_text):\n",
    "    print(\"\\n🔍 Analyzing Email Header...\")\n",
    "    \n",
    "    from_match = re.search(r'From: .*<(.*)>', header)\n",
    "    reply_to_match = re.search(r'Reply-To: .*<(.*)>', header)\n",
    "    ip_match = re.search(r'Received: from .*\\[(\\d+\\.\\d+\\.\\d+\\.\\d+)\\]', header)\n",
    "\n",
    "    if from_match and reply_to_match:\n",
    "        from_email = from_match.group(1)\n",
    "        reply_to = reply_to_match.group(1)\n",
    "        print(f\"✉️ From: {from_email}\")\n",
    "        print(f\"📩 Reply-To: {reply_to}\")\n",
    "        if from_email != reply_to:\n",
    "            print(\"⚠️ Mismatch between 'From' and 'Reply-To' — possible spoofing!\")\n",
    "    else:\n",
    "        print(\"❌ Could not extract 'From' or 'Reply-To' fields.\")\n",
    "\n",
    "    if ip_match:\n",
    "        ip = ip_match.group(1)\n",
    "        print(f\"🌐 Sender IP: {ip}\")\n",
    "        try:\n",
    "            obj = IPWhois(ip)\n",
    "            res = obj.lookup_rdap()\n",
    "            print(\"🏢 Org:\", res.get('network', {}).get('name'))\n",
    "            print(\"📍 Country:\", res.get('network', {}).get('country'))\n",
    "        except:\n",
    "            print(\"⚠️ IP lookup failed\")\n",
    "    else:\n",
    "        print(\"⚠️ Could not extract sender IP.\")\n",
    "\n",
    "    print(\"\\n🔗 Checking for Suspicious Links...\")\n",
    "    urls = re.findall(r'https?://\\S+', body_text)\n",
    "    for url in urls:\n",
    "        domain = tldextract.extract(url).registered_domain\n",
    "        if \"bit.ly\" in url or \"tinyurl\" in url:\n",
    "            print(f\"⚠️ Shortened URL detected: {url}\")\n",
    "        elif domain in [\"paypal-login-verification.com\", \"goog1e-verify.com\"]:\n",
    "            print(f\"🚨 Known suspicious domain: {url}\")\n",
    "        else:\n",
    "            print(f\"🔗 URL found: {url}\")"
   ]
  },
  {
   "cell_type": "code",
   "execution_count": null,
   "id": "1721eff4",
   "metadata": {},
   "outputs": [],
   "source": [
    "# 🧪 Example Usage\n",
    "sample_header = '''From: PayPal <support@paypal.com>\n",
    "Reply-To: help@paypal-login-verification.com\n",
    "Received: from [45.76.123.1] by mail.fake.net;'''\n",
    "\n",
    "sample_body = '''Please confirm your account: https://paypal-login-verification.com/confirm\n",
    "Or visit our secure page: https://bit.ly/fakepaypal'''\n",
    "\n",
    "analyze_email(sample_header, sample_body)"
   ]
  },
  {
   "cell_type": "markdown",
   "id": "4b6a624a",
   "metadata": {},
   "source": [
    "⚠️ You can replace the sample header and body with your own test data."
   ]
  }
 ],
 "metadata": {},
 "nbformat": 4,
 "nbformat_minor": 5
}
